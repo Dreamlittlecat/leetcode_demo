{
 "cells": [
  {
   "cell_type": "code",
   "execution_count": 32,
   "metadata": {},
   "outputs": [
    {
     "name": "stdout",
     "output_type": "stream",
     "text": [
      "{-1: [0], -2: [1], -3: [2], -4: [3], -5: [4]}\n"
     ]
    },
    {
     "data": {
      "text/plain": [
       "False"
      ]
     },
     "execution_count": 32,
     "metadata": {},
     "output_type": "execute_result"
    }
   ],
   "source": [
    "class Solution(object):\n",
    "    def twoSum(self, nums, target):\n",
    "        \"\"\"\n",
    "        :type nums: List[int]\n",
    "        :type target: int\n",
    "        :rtype: List[int]\n",
    "        \"\"\"\n",
    "        #dict={num:indice for indice,num in enumerate(nums)}\n",
    "        dict={num:[] for num in nums}\n",
    "        for indice,num in enumerate(nums):\n",
    "            dict[num].append(indice)\n",
    "\n",
    "        print(dict)\n",
    "        sort_nums=sorted(nums)\n",
    "        i_max=len(sort_nums)-1\n",
    "        exist_flag=True\n",
    "        for i in range(len(sort_nums)):\n",
    "            if(sort_nums[i]>target and i!=0):\n",
    "                i_max=i\n",
    "                break\n",
    "            exist_flag=False\n",
    "        i_min=0\n",
    "        while(i_max>0):\n",
    "            delta=target-sort_nums[i_max]\n",
    "            find_flag=False\n",
    "            for i in range(i_min,i_max):\n",
    "                if(sort_nums[i]==delta):\n",
    "                    i_min=i\n",
    "                    find_flag=True\n",
    "                    break\n",
    "                else:\n",
    "                    if(sort_nums[i]>delta and i!=0):\n",
    "                        i_min=i-1\n",
    "                        break\n",
    "            if(find_flag):\n",
    "                if(sort_nums[i_min]==sort_nums[i_max]):\n",
    "                    return [dict[sort_nums[i_min]][0],dict[sort_nums[i_max]][1]]\n",
    "                else:\n",
    "                    return [dict[sort_nums[i_min]][0],dict[sort_nums[i_max]][0]]\n",
    "            i_max-=1\n",
    "        return False\n",
    "Solution.twoSum(Solution,[-1,-2,-3,-4,-5],-8)"
   ]
  },
  {
   "cell_type": "code",
   "execution_count": 21,
   "metadata": {},
   "outputs": [
    {
     "data": {
      "text/plain": [
       "0"
      ]
     },
     "execution_count": 21,
     "metadata": {},
     "output_type": "execute_result"
    }
   ],
   "source": [
    "class Solution(object):\n",
    "    def longestConsecutive(self, nums):\n",
    "        \"\"\"\n",
    "        :type nums: List[int]\n",
    "        :rtype: int\n",
    "        \"\"\"\n",
    "        dict={}\n",
    "        for i in nums:\n",
    "            dict[i]=1\n",
    "        max_seq_len=0\n",
    "\n",
    "        for i in list(dict.keys()):\n",
    "            if(dict[i]>1):\n",
    "                continue\n",
    "            self.sub_seq_len(self,dict,i)\n",
    "\n",
    "        return max(dict.values()) if dict else 0\n",
    "\n",
    "    def sub_seq_len(self,dict,num):\n",
    "        if num not in dict:\n",
    "            return 0\n",
    "        else:\n",
    "            if dict.get(num+1):\n",
    "                dict[num]=1+self.sub_seq_len(self,dict,num+1)\n",
    "            #print(dict)\n",
    "            return dict[num]\n",
    "        \n",
    "Solution.longestConsecutive(Solution,[])"
   ]
  },
  {
   "cell_type": "code",
   "execution_count": 29,
   "metadata": {},
   "outputs": [
    {
     "name": "stdout",
     "output_type": "stream",
     "text": [
      "move:[0, 0, 1, 0, 3, 12, 0, 0]\n",
      "move:[0, 1, 0, 3, 12, 0, 0, 0]\n",
      "move:[1, 0, 3, 12, 0, 0, 0, 0]\n",
      "move:[1, 3, 12, 0, 0, 0, 0, 0]\n"
     ]
    },
    {
     "data": {
      "text/plain": [
       "[1, 3, 12, 0, 0, 0, 0, 0]"
      ]
     },
     "execution_count": 29,
     "metadata": {},
     "output_type": "execute_result"
    }
   ],
   "source": [
    "class Solution(object):\n",
    "    def moveZeroes(self, nums):\n",
    "        \"\"\"\n",
    "        :type nums: List[int]\n",
    "        :rtype: None Do not return anything, modify nums in-place instead.\n",
    "        \"\"\"\n",
    "        ptr=0\n",
    "        ptr_end=len(nums)-1\n",
    "        while(ptr<ptr_end):\n",
    "            \n",
    "            if(nums[ptr]==0):\n",
    "                print(\"move:{0}\".format(nums))\n",
    "                nums=self.move(self,nums,ptr)\n",
    "                ptr_end-=1\n",
    "            else:\n",
    "                ptr+=1\n",
    "        return nums\n",
    "\n",
    "        \n",
    "    def move(self,nums,i):\n",
    "        if(i>=len(nums)-1 or i<0 ):\n",
    "            pass\n",
    "        else:\n",
    "            for i in range(i,len(nums)-1):\n",
    "                nums[i]=nums[i+1]\n",
    "            nums[-1]=0\n",
    "        return nums\n",
    "\n",
    "Solution.moveZeroes(Solution,[0,0,1,0,3,12,0,0])"
   ]
  },
  {
   "cell_type": "code",
   "execution_count": 18,
   "metadata": {},
   "outputs": [
    {
     "name": "stdout",
     "output_type": "stream",
     "text": [
      "0 8\n",
      "8\n",
      "1 8\n",
      "49\n",
      "1 7\n",
      "18\n",
      "1 6\n",
      "40\n",
      "1 5\n",
      "16\n",
      "1 4\n",
      "15\n",
      "1 3\n",
      "4\n",
      "1 2\n",
      "6\n"
     ]
    },
    {
     "data": {
      "text/plain": [
       "49"
      ]
     },
     "execution_count": 18,
     "metadata": {},
     "output_type": "execute_result"
    }
   ],
   "source": [
    "class Solution(object):\n",
    "    def maxArea(self, height):\n",
    "        \"\"\"\n",
    "        :type height: List[int]\n",
    "        :rtype: int\n",
    "        \"\"\"\n",
    "        if(len(height) in [0 ,1] ):\n",
    "            return\n",
    "        ptr_left=0\n",
    "        ptr_right=len(height)-1\n",
    "        max_water=0\n",
    "        current_water=0\n",
    "        switch_ptr=False\n",
    "        while(ptr_left!=ptr_right):\n",
    "            print(ptr_left,ptr_right)\n",
    "            current_water=(ptr_right-ptr_left)*min(height[ptr_left],height[ptr_right])\n",
    "            print(current_water)\n",
    "            if(current_water>max_water):\n",
    "                max_water=current_water\n",
    "                #switch_ptr=not switch_ptr\n",
    "                #switch_lptr=False\n",
    "            if(height[ptr_left]<height[ptr_right]):\n",
    "                ptr_left+=1\n",
    "            else:\n",
    "                ptr_right-=1\n",
    "           # print(\"iter\")\n",
    "        return max_water\n",
    "Solution.maxArea(Solution,[1,8,6,2,5,4,8,3,7])"
   ]
  },
  {
   "cell_type": "code",
   "execution_count": 29,
   "metadata": {},
   "outputs": [
    {
     "name": "stdout",
     "output_type": "stream",
     "text": [
      "start_ptr:0,move_ptr:0\n",
      "start_ptr:0,move_ptr:1\n",
      "start_ptr:0,move_ptr:2\n",
      "find anagrams\n",
      "cba\n",
      "start_ptr:0,move_ptr:3\n",
      "start_ptr:1,move_ptr:1\n",
      "start_ptr:1,move_ptr:2\n",
      "start_ptr:1,move_ptr:3\n",
      "start_ptr:2,move_ptr:2\n",
      "start_ptr:2,move_ptr:3\n",
      "start_ptr:3,move_ptr:3\n",
      "start_ptr:4,move_ptr:4\n",
      "start_ptr:4,move_ptr:5\n",
      "start_ptr:4,move_ptr:6\n",
      "start_ptr:5,move_ptr:5\n",
      "start_ptr:5,move_ptr:6\n",
      "start_ptr:5,move_ptr:7\n",
      "start_ptr:6,move_ptr:6\n",
      "start_ptr:6,move_ptr:7\n",
      "start_ptr:6,move_ptr:8\n",
      "find anagrams\n",
      "bac\n",
      "start_ptr:6,move_ptr:9\n",
      "start_ptr:7,move_ptr:7\n",
      "start_ptr:7,move_ptr:8\n",
      "start_ptr:7,move_ptr:9\n",
      "start_ptr:8,move_ptr:8\n",
      "start_ptr:8,move_ptr:9\n",
      "start_ptr:9,move_ptr:9\n"
     ]
    }
   ],
   "source": [
    "class Solution(object):#还需要改进\n",
    "    def findAnagrams(self, s, p):\n",
    "        \"\"\"\n",
    "        :type s: str\n",
    "        :type p: str\n",
    "        :rtype: List[int]\n",
    "        \"\"\"\n",
    "        #s=str\n",
    "        start_ptr=0\n",
    "        move_ptr=start_ptr\n",
    "        dict={}\n",
    "        for char in p:\n",
    "            dict[char]=dict.get(char,0)+1\n",
    "            \n",
    "        dict2=dict.copy()\n",
    "        while(move_ptr<len(s) and start_ptr<len(s) ):\n",
    "            print(\"start_ptr:{0},move_ptr:{1}\".format(start_ptr,move_ptr))\n",
    "            char=s[move_ptr]\n",
    "            if dict.get(char) and dict2[char]>0:\n",
    "                dict2[char]-=1\n",
    "                move_ptr+=1\n",
    "                if(move_ptr-start_ptr==len(p)):\n",
    "                    print(\"find anagrams\")\n",
    "                    print(s[start_ptr:move_ptr])\n",
    "                \n",
    "            else:\n",
    "                start_ptr+=1\n",
    "                move_ptr=start_ptr\n",
    "                dict2=dict.copy()\n",
    "            #print(dict)\n",
    "Solution.findAnagrams(Solution,\"cbaebabacd\",\"abc\")\n",
    "\n",
    "\n",
    "   "
   ]
  },
  {
   "cell_type": "code",
   "execution_count": 15,
   "metadata": {},
   "outputs": [
    {
     "name": "stdout",
     "output_type": "stream",
     "text": [
      "[] None None\n",
      "[2] 0 0\n",
      "[2, 0] 1 1\n",
      "[2, 0, 3] 2 1\n",
      "0 0 2 3 2 0 2\n"
     ]
    }
   ],
   "source": [
    "class MinStack(object):\n",
    "\n",
    "    def __init__(self):\n",
    "        self.stack=[]\n",
    "        self.end_ptr=None\n",
    "        self.min_ptr=None\n",
    "\n",
    "\n",
    "    def push(self, val):\n",
    "        \"\"\"\n",
    "        :type val: int\n",
    "        :rtype: None\n",
    "        \"\"\"\n",
    "        print(self.stack,self.end_ptr,self.min_ptr)\n",
    "        if(self.end_ptr is not None):\n",
    "            self.end_ptr+=1\n",
    "            self.stack.append(val)\n",
    "            #self.stack[self.end_ptr]=val\n",
    "            if(val<self.stack[self.min_ptr]):\n",
    "                self.min_ptr=self.end_ptr\n",
    "        else:\n",
    "            self.stack.append(val)\n",
    "            self.end_ptr=0\n",
    "            self.min_ptr=self.end_ptr\n",
    "\n",
    "    def pop(self):\n",
    "        \"\"\"\n",
    "        :rtype: None\n",
    "        \"\"\"\n",
    "        if(self.end_ptr is not None):\n",
    "            if(self.end_ptr>=1):\n",
    "                result=self.stack[self.end_ptr]\n",
    "                self.end_ptr-=1\n",
    "                self.stack.pop()\n",
    "                self.min_ptr=0\n",
    "                for i in range(self.end_ptr):\n",
    "                    if(self.stack[self.min_ptr]<self.stack[i]):\n",
    "                        self.min_ptr=i\n",
    "                return result\n",
    "            if(self.end_ptr==0):\n",
    "                result=self.stack[self.end_ptr]\n",
    "                self.end_ptr,self.min_ptr=None\n",
    "                return result\n",
    "        else:\n",
    "            return False\n",
    "    def top(self):\n",
    "        \"\"\"\n",
    "        :rtype: int\n",
    "        \"\"\"\n",
    "        if(self.end_ptr is not None):\n",
    "            return self.stack[self.end_ptr]\n",
    "        else:\n",
    "            return False\n",
    "\n",
    "    def getMin(self):\n",
    "        \"\"\"\n",
    "        :rtype: int\n",
    "        \"\"\"\n",
    "        if(self.min_ptr is not None):\n",
    "            return self.stack[self.min_ptr]\n",
    "        else:\n",
    "            return False\n",
    "obj = MinStack()\n",
    "#obj.push()\n",
    "obj.push(2)\n",
    "obj.push(0)\n",
    "obj.push(3)\n",
    "obj.push(0)\n",
    "print(obj.getMin(),obj.pop(),obj.getMin(),obj.pop(),obj.getMin(),obj.pop(),obj.getMin())\n"
   ]
  },
  {
   "cell_type": "code",
   "execution_count": 37,
   "metadata": {},
   "outputs": [
    {
     "name": "stdout",
     "output_type": "stream",
     "text": [
      "[[1, 0, 2, 0, 3], [1, 0, 2, 0, 3], [1, 0, 2, 0, 3], [0, 0, 0, 3, 3]]\n"
     ]
    },
    {
     "data": {
      "text/plain": [
       "3"
      ]
     },
     "execution_count": 37,
     "metadata": {},
     "output_type": "execute_result"
    }
   ],
   "source": [
    "class Solution(object):\n",
    "    def numIslands(self, grid):\n",
    "        \"\"\"\n",
    "        :type grid: List[List[str]]\n",
    "        :rtype: int\n",
    "        \"\"\"\n",
    "        if(grid and grid[0]):\n",
    "            m=len(grid)\n",
    "            n=len(grid[0])\n",
    "            copy_grid=[[0 for i in range(n)] for k in range(m)]\n",
    "            #print(len(copy_grid),len(copy_grid[0]))\n",
    "            count_island=0\n",
    "            for row in range(m):\n",
    "                for col in range(n):\n",
    "                    if(grid[row][col]==\"1\" and copy_grid[row][col]==0):\n",
    "                        count_island+=1\n",
    "                        self.update_arround(self,row,col,grid,copy_grid,count_island)\n",
    "            print(copy_grid)       \n",
    "            return count_island\n",
    "        else:\n",
    "            return 0\n",
    "        \n",
    "    def update_arround(self,row,col,grid,copy_grid,count_island):\n",
    "        if(row<0 or col<0 or row>=len(copy_grid) or col>=len(copy_grid[0]) or copy_grid[row][col]!=0):\n",
    "            return\n",
    "        if(grid[row][col]==\"1\"):\n",
    "            if(copy_grid[row][col]==0):\n",
    "                copy_grid[row][col]=count_island\n",
    "                self.update_arround(self,row+1,col,grid,copy_grid,count_island)\n",
    "                self.update_arround(self,row-1,col,grid,copy_grid,count_island)\n",
    "                self.update_arround(self,row,col+1,grid,copy_grid,count_island)\n",
    "                self.update_arround(self,row,col-1,grid,copy_grid,count_island)\n",
    "        return \n",
    "\n",
    "    \n",
    "Solution.numIslands(Solution,[\n",
    "  [\"1\",\"0\",\"1\",\"0\",\"1\"],\n",
    "  [\"1\",\"0\",\"1\",\"0\",\"1\"],\n",
    "  [\"1\",\"0\",\"1\",\"0\",\"1\"],\n",
    "  [\"0\",\"0\",\"0\",\"1\",\"1\"]\n",
    "])"
   ]
  },
  {
   "cell_type": "code",
   "execution_count": 40,
   "metadata": {},
   "outputs": [
    {
     "data": {
      "text/plain": [
       "3"
      ]
     },
     "execution_count": 40,
     "metadata": {},
     "output_type": "execute_result"
    }
   ],
   "source": [
    "class Solution(object):\n",
    "    def numIslands(self, grid):\n",
    "        \"\"\"\n",
    "        :type grid: List[List[str]]\n",
    "        :rtype: int\n",
    "        \"\"\"\n",
    "        if(grid and grid[0]):\n",
    "            m=len(grid)\n",
    "            n=len(grid[0])\n",
    "            \n",
    "    \n",
    "            count_island=0\n",
    "            for row in range(m):\n",
    "                for col in range(n):\n",
    "                    if(grid[row][col]==\"1\" ):\n",
    "                        count_island+=1\n",
    "                        self.dfs_update(self,row,col,grid)\n",
    "                   \n",
    "            return count_island\n",
    "        else:\n",
    "            return 0\n",
    "        \n",
    "    def dfs_update(self,row,col,grid):\n",
    "        if(row<0 or col<0 or row>=len(grid) or col>=len(grid[0]) or grid[row][col]==0):\n",
    "            return\n",
    "        if(grid[row][col]==\"1\"):\n",
    "            grid[row][col]=\"0\"\n",
    "            self.dfs_update(self,row+1,col,grid)\n",
    "            self.dfs_update(self,row-1,col,grid)\n",
    "            self.dfs_update(self,row,col+1,grid)\n",
    "            self.dfs_update(self,row,col-1,grid)\n",
    "        return \n",
    "    \n",
    "    \n",
    "Solution.numIslands(Solution,[\n",
    "  [\"1\",\"0\",\"1\",\"0\",\"1\"],\n",
    "  [\"1\",\"0\",\"1\",\"0\",\"1\"],\n",
    "  [\"1\",\"0\",\"1\",\"0\",\"1\"],\n",
    "  [\"0\",\"0\",\"0\",\"1\",\"1\"]\n",
    "])\n"
   ]
  },
  {
   "cell_type": "code",
   "execution_count": 42,
   "metadata": {},
   "outputs": [
    {
     "name": "stdout",
     "output_type": "stream",
     "text": [
      "nums: 0 0 0 1\n",
      "nums: 0 0 0 1\n",
      "nums: 0 1 1 2\n",
      "nums: 0 0 0 1\n",
      "nums: 0 0 0 1\n",
      "nums: 0 0 0 1\n",
      "nums: 0 1 1 2\n",
      "nums: 0 0 0 1\n",
      "nums: 0 3 3 3\n",
      "nums: 0 0 0 1\n",
      "nums: 0 0 0 1\n",
      "nums: 0 1 1 2\n",
      "nums: 0 0 0 1\n"
     ]
    },
    {
     "data": {
      "text/plain": [
       "6"
      ]
     },
     "execution_count": 42,
     "metadata": {},
     "output_type": "execute_result"
    }
   ],
   "source": [
    "class Solution(object):\n",
    "    def subarraySum(self, nums, k):\n",
    "        \"\"\"\n",
    "        :type nums: List[int]\n",
    "        :type k: int\n",
    "        :rtype: int\n",
    "        \"\"\"\n",
    "        count=0\n",
    "        if(not nums):\n",
    "            return 0\n",
    "        #k-=nums[0]\n",
    "        # if(k==0):\n",
    "        #     count=1\n",
    "       # print(\"nums:\",nums[0],self.subarraySum(self,nums[1:],k),self.subarraySum(self,nums[1:],k+nums[0]),self.searchorder_subarraySum(self,nums,k))\n",
    "        return self.subarraySum(self,nums[1:],k)+self.searchorder_subarraySum(self,nums,k)\n",
    "    \n",
    "    def searchorder_subarraySum(self, nums, k):\n",
    "        count=0\n",
    "        if(not nums):\n",
    "            return 0\n",
    "        temp=k\n",
    "        for j in range(len(nums)):\n",
    "            temp-=nums[j]\n",
    "            if(temp==0 ):\n",
    "                count+=1\n",
    "        return count\n",
    "Solution.subarraySum(Solution,[0,0,0],0)\n",
    "\n",
    "            "
   ]
  },
  {
   "cell_type": "code",
   "execution_count": 48,
   "metadata": {},
   "outputs": [
    {
     "name": "stdout",
     "output_type": "stream",
     "text": [
      "半指针 3\n",
      "ptr 1\n",
      "两个链表：\n",
      "[1, 2, 1]\n",
      "[1, 3, 1]\n",
      "left_ptr 1\n",
      "right_ptr 1\n",
      "left_ptr 2\n",
      "right_ptr 3\n"
     ]
    },
    {
     "data": {
      "text/plain": [
       "False"
      ]
     },
     "execution_count": 48,
     "metadata": {},
     "output_type": "execute_result"
    }
   ],
   "source": [
    "# Definition for singly-linked list.\n",
    "class ListNode(object):\n",
    "    def __init__(self, val=0, next=None):\n",
    "        self.val = val\n",
    "        self.next = next\n",
    "class Solution(object):\n",
    "    def isPalindrome(self, head):\n",
    "        \"\"\"\n",
    "        :type head: ListNode\n",
    "        :rtype: bool\n",
    "        \"\"\"\n",
    "        if(not head):\n",
    "            return True\n",
    "        if(not head.next):\n",
    "            return True\n",
    "        len_count=1\n",
    "        ptr=head\n",
    "        while(ptr:=ptr.next):\n",
    "            len_count+=1\n",
    "        ptr=head\n",
    "        for i in range(len_count//2-1):\n",
    "            ptr=ptr.next\n",
    "        temp=ptr.next\n",
    "        ptr.next=None\n",
    "        temp=self.inverse_list(self,temp)#右半链表翻转\n",
    "        left_ptr=head\n",
    "        right_ptr=temp\n",
    "        while(left_ptr and right_ptr):\n",
    "            if(left_ptr.val!=right_ptr.val):\n",
    "                return False\n",
    "            left_ptr=left_ptr.next\n",
    "            right_ptr=right_ptr.next\n",
    "        return True\n",
    "\n",
    "    def inverse_list(self,head):\n",
    "       \n",
    "        temp=head\n",
    "        temp2=head.next\n",
    "        temp.next=None\n",
    "        if(temp2):\n",
    "            res=self.inverse_list(self,temp2)\n",
    "        else:\n",
    "            res=temp\n",
    "            return res\n",
    "        move_ptr=res\n",
    "        while(move_ptr.next):\n",
    "            move_ptr=move_ptr.next\n",
    "        move_ptr.next=temp\n",
    "        return  res\n",
    "\n",
    "    def print_list(self,head):\n",
    "        ptr=head\n",
    "        array=[]\n",
    "        while(ptr):\n",
    "            array.append(ptr.val)\n",
    "            ptr=ptr.next\n",
    "        print(array)\n",
    "head=ListNode(1,ListNode(2,ListNode(3,ListNode(4,ListNode(5,ListNode(6,ListNode(7,ListNode(8,ListNode(9,None)))))))))\n",
    "head=ListNode(1,ListNode(2,ListNode(1,ListNode(1,ListNode(3,ListNode(1,None))))))\n",
    "Solution.isPalindrome(Solution,head)\n",
    "# head=Solution.inverse_list(Solution,head)\n",
    "# Solution.print_list(Solution,head)"
   ]
  },
  {
   "cell_type": "code",
   "execution_count": 26,
   "metadata": {},
   "outputs": [
    {
     "name": "stdout",
     "output_type": "stream",
     "text": [
      "{0: 4, 1: 1}\n",
      "[0, 0, 0, 1, 0]\n"
     ]
    },
    {
     "data": {
      "text/plain": [
       "0"
      ]
     },
     "execution_count": 26,
     "metadata": {},
     "output_type": "execute_result"
    }
   ],
   "source": [
    "from typing import List\n",
    "class Solution:\n",
    "    def subarraySum(self, nums: List[int], k: int) -> int:\n",
    "        cum=[]\n",
    "        cum.append(0)\n",
    "        \n",
    "        for i in range(len(nums)):\n",
    "            cum.append(nums[i]+cum[i])\n",
    "        res_count=0\n",
    "        hash_dict={}\n",
    "        for i in cum:\n",
    "            if(i in hash_dict):\n",
    "                hash_dict[i]+=1\n",
    "            else:\n",
    "                hash_dict[i]=1\n",
    "        print(hash_dict)\n",
    "        print(cum)\n",
    "\n",
    "\n",
    "\n",
    "        return res_count\n",
    "Solution.subarraySum(Solution,[0,0,1,-1],0)"
   ]
  },
  {
   "cell_type": "code",
   "execution_count": 6,
   "metadata": {},
   "outputs": [
    {
     "data": {
      "text/plain": [
       "[1, 2, 3, 6]"
      ]
     },
     "execution_count": 6,
     "metadata": {},
     "output_type": "execute_result"
    }
   ],
   "source": [
    "nums=[0,1,2,3,4]\n",
    "nums[0:1]\n",
    "nums.pop(0)\n",
    "nums.append(6)\n",
    "nums.pop(3)\n",
    "nums"
   ]
  },
  {
   "cell_type": "code",
   "execution_count": 116,
   "metadata": {},
   "outputs": [
    {
     "name": "stdout",
     "output_type": "stream",
     "text": [
      "4\n",
      "0 0\n",
      "1 1\n",
      "2 2\n",
      "3 3\n",
      "end 3 3\n",
      "3 3\n",
      "3 4\n",
      "2 4\n"
     ]
    },
    {
     "data": {
      "text/plain": [
       "True"
      ]
     },
     "execution_count": 116,
     "metadata": {},
     "output_type": "execute_result"
    }
   ],
   "source": [
    "\n",
    "class Solution:\n",
    "    def searchMatrix(self, matrix, target) :\n",
    "        flag_matrix=[[False for i in range(len(matrix[0]))] for j in range(len(matrix))]\n",
    "        #print(flag_matrix)\n",
    "        #边界判定\n",
    "        if(len(matrix)==0 or len(matrix[0])==0):\n",
    "            return False\n",
    "        if(target<matrix[0][0] or target>matrix[-1][-1]):\n",
    "            return False\n",
    "\n",
    "        \n",
    "        min_num=min(len(matrix),len(matrix[0]))\n",
    "        print(min_num)\n",
    "        row=col=0\n",
    "        while(row<min_num and col<min_num and matrix[row][col]<target):\n",
    "            print(row,col)\n",
    "            if(matrix[row][col]==target):\n",
    "                return True\n",
    "            row+=1\n",
    "            col+=1\n",
    "        if(row>=min_num or col>=min_num):\n",
    "            row-=1\n",
    "            col-=1\n",
    "        \n",
    "        print(\"end\",row,col)\n",
    "        res=self.search(self,matrix,target,flag_matrix,row,col)\n",
    "        return res\n",
    "        \n",
    "    def search(self,matrix,target,flag_matrix,row,col):\n",
    "        \n",
    "        if(row<0 or col<0 or row>=len(matrix) or col>=len(matrix[0])or flag_matrix[row][col]):\n",
    "            return False\n",
    "        print(row,col)\n",
    "        if(matrix[row][col]==target):\n",
    "            return True\n",
    "        else:\n",
    "            flag_matrix[row][col]=True\n",
    "            if(matrix[row][col]>target):\n",
    "                return self.search(self,matrix,target,flag_matrix,row-1,col) or self.search(self,matrix,target,flag_matrix,row,col-1)\n",
    "            else:\n",
    "                return self.search(self,matrix,target,flag_matrix,row+1,col) or self.search(self,matrix,target,flag_matrix,row,col+1)\n",
    "\n",
    "       \n",
    "\n",
    "Solution.searchMatrix(Solution,[[1,4,7,11,15],[2,5,8,12,19],[3,6,9,16,22],[10,13,14,17,24]],22)\n",
    "        "
   ]
  },
  {
   "cell_type": "code",
   "execution_count": 54,
   "metadata": {},
   "outputs": [
    {
     "data": {
      "text/plain": [
       "[[-1, 3]]"
      ]
     },
     "execution_count": 54,
     "metadata": {},
     "output_type": "execute_result"
    }
   ],
   "source": [
    "test_matrix=[[-1,3]]\n"
   ]
  },
  {
   "cell_type": "code",
   "execution_count": 40,
   "metadata": {},
   "outputs": [
    {
     "data": {
      "text/plain": [
       "1"
      ]
     },
     "execution_count": 40,
     "metadata": {},
     "output_type": "execute_result"
    }
   ],
   "source": [
    "class Solution:\n",
    "    def searchInsert(self, nums, target):\n",
    "        left=0\n",
    "        right=len(nums)-1\n",
    "        if(len(nums)==0):\n",
    "            return 0\n",
    "        if(target<=nums[left]):\n",
    "            return left\n",
    "        if(target>nums[right]):\n",
    "            return right+1\n",
    "        if(target==nums[right]):\n",
    "            return right\n",
    "        \n",
    "        while(right!=left):\n",
    "            mid=(left+right)//2\n",
    "            print(left,right,mid)\n",
    "\n",
    "            if(target==nums[mid]):\n",
    "                return mid\n",
    "            \n",
    "            if(left==mid):\n",
    "                return right\n",
    "            if(target>nums[mid]):\n",
    "                left=mid\n",
    "            \n",
    "            if(target<nums[mid]):\n",
    "                right=mid\n",
    "            \n",
    "            #mid=(left+right)//2\n",
    "\n",
    "        return mid\n",
    "Solution.searchInsert(Solution,[1],4)"
   ]
  },
  {
   "cell_type": "code",
   "execution_count": 42,
   "metadata": {},
   "outputs": [
    {
     "name": "stdout",
     "output_type": "stream",
     "text": [
      "123\n"
     ]
    },
    {
     "data": {
      "text/plain": [
       "123"
      ]
     },
     "execution_count": 42,
     "metadata": {},
     "output_type": "execute_result"
    }
   ],
   "source": [
    "# Convert an integer to a string\n",
    "num = 123  # Example integer\n",
    "num_str = str(num)  # Convert integer to string\n",
    "print(num_str) \n",
    "int(num_str)  # Convert string to integer"
   ]
  },
  {
   "cell_type": "code",
   "execution_count": 49,
   "metadata": {},
   "outputs": [
    {
     "name": "stdout",
     "output_type": "stream",
     "text": [
      "['a', 'b', '', '[', 'a', ']', '', '[', 'b', 'c', ']'] [3, 2]\n"
     ]
    }
   ],
   "source": [
    "class Solution:\n",
    "    def decodeString(self, s) :\n",
    "        res=\"\"\n",
    "        temp=\"\"\n",
    "        temp_num=\"\"\n",
    "        bracket_stack = []\n",
    "        flag=False\n",
    "        l=len(s)\n",
    "\n",
    "        for i in range(l):\n",
    "            if(s[i].isdigit()):\n",
    "                temp_num+=s[i]\n",
    "            else:\n",
    "                if(s[i]==\"[\"):\n",
    "                    bracket_stack.push(\"[\")\n",
    "                if(s[i]==\"]\"):\n",
    "                    bracket_stack.pop()\n",
    "                    flag=True\n",
    "                  \n",
    "                \n",
    "                if(flag):\n",
    "                    if(temp_num):\n",
    "                        temp_num=int(temp_num)\n",
    "                        temp=self.decoder(self,temp,temp_num)\n",
    "                    res+=temp\n",
    "                    temp=\"\"\n",
    "                    temp_num=\"\"\n",
    "                    left_bracket_count=0\n",
    "                    right_bracket_count=0\n",
    "                    flag=False\n",
    "                temp+=s[i]\n",
    "\n",
    "    def decoder(self,s,num):\n",
    "        return s*num\n"
   ]
  },
  {
   "cell_type": "code",
   "execution_count": 51,
   "metadata": {},
   "outputs": [
    {
     "data": {
      "text/plain": [
       "7"
      ]
     },
     "execution_count": 51,
     "metadata": {},
     "output_type": "execute_result"
    }
   ],
   "source": [
    "len(\"ab3[ad]\")"
   ]
  },
  {
   "cell_type": "code",
   "execution_count": 55,
   "metadata": {},
   "outputs": [
    {
     "data": {
      "text/plain": [
       "1"
      ]
     },
     "execution_count": 55,
     "metadata": {},
     "output_type": "execute_result"
    }
   ],
   "source": [
    "class Solution:\n",
    "    def findMin(self, nums):\n",
    "        if(nums[0]<nums[-1]):\n",
    "            return nums[0]\n",
    "        else:\n",
    "            left=0\n",
    "            right=len(nums)-1\n",
    "            while(left!=right):\n",
    "                mid=(left+right)//2\n",
    "                if(mid==left):\n",
    "                    if(nums[mid]>nums[right]):\n",
    "                        return nums[right]\n",
    "                    else:\n",
    "                        return nums[left]\n",
    "                if(nums[mid]<nums[left]):\n",
    "                    right=mid\n",
    "                else:\n",
    "                    left=mid\n",
    "            return nums[0]\n",
    "Solution.findMin(Solution,[1])"
   ]
  },
  {
   "cell_type": "code",
   "execution_count": 111,
   "metadata": {},
   "outputs": [
    {
     "name": "stdout",
     "output_type": "stream",
     "text": [
      "0 0 0\n",
      "range(0, 0)\n",
      "state:0,dynamic_len:0,i:0,total_len:0,nn:2\n",
      "0 2 2\n",
      "range(0, 2)\n",
      "state:0,dynamic_len:2,i:0,total_len:2,nn:0\n",
      "state:0,dynamic_len:2,i:1,total_len:2,nn:2\n",
      "state:0,dynamic_len:2,i:2,total_len:2,nn:1\n",
      "[0, 1]\n"
     ]
    },
    {
     "data": {
      "text/plain": [
       "True"
      ]
     },
     "execution_count": 111,
     "metadata": {},
     "output_type": "execute_result"
    }
   ],
   "source": [
    "class Solution:\n",
    "    def canJump(self, nums) :\n",
    "        dynamic_len=0\n",
    "        total_len=0\n",
    "        state=0\n",
    "        len_nums=len(nums)\n",
    "        index_step_list=[]\n",
    "        if(nums[0]==0 and len_nums>1):\n",
    "            return False\n",
    "        if(len_nums==1):\n",
    "            return True\n",
    "        while(True):\n",
    "            print(state,total_len,dynamic_len)\n",
    "            temp=0\n",
    "            temp_index=0\n",
    "            print(range(state,state+dynamic_len))\n",
    "            for i in range(state,state+dynamic_len+1):   \n",
    "                nn=nums[i]+i-state-dynamic_len\n",
    "                print(\"state:{0},dynamic_len:{1},i:{2},total_len:{3},nn:{4}\".format(state,dynamic_len,i,total_len,nn))\n",
    "                if(nn>temp):\n",
    "                    temp=nn\n",
    "                    temp_index=i\n",
    "            \n",
    "            total_len+=temp\n",
    "            state+=dynamic_len\n",
    "            dynamic_len=temp\n",
    "            index_step_list.append(temp_index)\n",
    "            if(total_len>=len_nums-1):\n",
    "                print(index_step_list)\n",
    "                return len(index_step_list)\n",
    "                return True\n",
    "            if(dynamic_len==0):\n",
    "                return False\n",
    "    \n",
    "Solution.canJump(Solution,[2,3,1,1,4])"
   ]
  },
  {
   "cell_type": "code",
   "execution_count": 70,
   "metadata": {},
   "outputs": [],
   "source": [
    "for i in range(1,1):\n",
    "    print(i)"
   ]
  },
  {
   "cell_type": "code",
   "execution_count": 177,
   "metadata": {},
   "outputs": [
    {
     "name": "stdout",
     "output_type": "stream",
     "text": [
      "['a', 'd', 'b', 'c', 'd', 'b', 'a', 'c'] [0, 1, 3, 5, 7, 9, 10, 12] 13\n",
      "while\n",
      "start:0,len:8\n",
      "xunhuan\n",
      "a {'a': 2, 'b': 1, 'c': 1, 'd': 1}\n",
      "xunhuan\n",
      "d {'a': 1, 'b': 1, 'c': 1, 'd': 1}\n",
      "xunhuan\n",
      "b {'a': 1, 'b': 1, 'c': 1, 'd': 0}\n",
      "xunhuan\n",
      "c {'a': 1, 'b': 0, 'c': 1, 'd': 0}\n",
      "xunhuan\n",
      "d {'a': 1, 'b': 0, 'c': 0, 'd': 0}\n",
      "xunhuan\n",
      "b {'a': 1, 'b': 0, 'c': 0, 'd': 0}\n",
      "xunhuan\n",
      "a {'a': 1, 'b': 0, 'c': 0, 'd': 0}\n",
      "count==0\n",
      "13\n",
      "0 10\n",
      "temp_str:adobecodeba\n",
      "while\n",
      "start:1,len:8\n",
      "xunhuan\n",
      "d {'a': 2, 'b': 1, 'c': 1, 'd': 1}\n",
      "xunhuan\n",
      "b {'a': 2, 'b': 1, 'c': 1, 'd': 0}\n",
      "xunhuan\n",
      "c {'a': 2, 'b': 0, 'c': 1, 'd': 0}\n",
      "xunhuan\n",
      "d {'a': 2, 'b': 0, 'c': 0, 'd': 0}\n",
      "xunhuan\n",
      "b {'a': 2, 'b': 0, 'c': 0, 'd': 0}\n",
      "xunhuan\n",
      "a {'a': 2, 'b': 0, 'c': 0, 'd': 0}\n",
      "xunhuan\n",
      "c {'a': 1, 'b': 0, 'c': 0, 'd': 0}\n"
     ]
    },
    {
     "data": {
      "text/plain": [
       "'adobecodeba'"
      ]
     },
     "execution_count": 177,
     "metadata": {},
     "output_type": "execute_result"
    }
   ],
   "source": [
    "class Solution:\n",
    "    def minWindow(self, s, t) :\n",
    "        #t_list=list(t)\n",
    "        t_dict={}\n",
    "        for i in t:\n",
    "            t_dict[i]=t_dict.get(i,0)+1\n",
    "        copy_=t_dict.copy()\n",
    "\n",
    "\n",
    "        step_list=[]\n",
    "        indices=[]\n",
    "        \n",
    "        for i in range(len(s)):\n",
    "            #print(\"i:{0},s[i]:{1},t_dict[s[i]]:{2},count:{3}\".format(i,s[i],t_dict.get(s[i],0),count))\n",
    "            if(s[i] in t_dict):\n",
    "                step_list.append(s[i])\n",
    "                indices.append(i)\n",
    "        count=len(t)\n",
    "        temp_str=\"\"\n",
    "        \n",
    "        if(indices==[]):\n",
    "            return \"\"\n",
    "        \n",
    "        min_len=len(s)\n",
    "        print(step_list,indices,min_len)\n",
    "        if(min_len==0):\n",
    "            if(len(t)>1):\n",
    "                return \"\"\n",
    "            if(len(t)==1):\n",
    "                return t\n",
    "        start=0\n",
    "        \n",
    "        while(start<=len(indices)-len(t)):\n",
    "            print(\"while\")\n",
    "            print(\"start:{0},len:{1}\".format(start,len(indices)))\n",
    "            old_start=start\n",
    "            for i in range(start,len(indices)):\n",
    "                print(\"xunhuan\")\n",
    "                print(step_list[i],t_dict)\n",
    "                if(t_dict[step_list[i]]>0):\n",
    "                    t_dict[step_list[i]]-=1\n",
    "                    count-=1\n",
    "                if(count==0):\n",
    "                    print(\"count==0\")\n",
    "                    print(min_len)\n",
    "                    print(indices[start],indices[i])\n",
    "                    if(indices[i]-indices[start]<=min_len):\n",
    "                        min_len=indices[i]-indices[start]\n",
    "                        #print(indices[start],indices[i])\n",
    "                        temp_str=s[indices[start]:indices[i]+1]\n",
    "                        print(\"temp_str:{0}\".format(temp_str))\n",
    "                    count=len(t)\n",
    "                    t_dict= copy_.copy()\n",
    "                    old_start=start\n",
    "                    start+=1\n",
    "                    break\n",
    "            if(start==old_start):\n",
    "                break\n",
    "\n",
    "        return temp_str\n",
    "Solution.minWindow(Solution,\"adobecodebanc\",\"abcda\")"
   ]
  },
  {
   "cell_type": "code",
   "execution_count": null,
   "metadata": {},
   "outputs": [],
   "source": []
  }
 ],
 "metadata": {
  "kernelspec": {
   "display_name": "llama",
   "language": "python",
   "name": "python3"
  },
  "language_info": {
   "codemirror_mode": {
    "name": "ipython",
    "version": 3
   },
   "file_extension": ".py",
   "mimetype": "text/x-python",
   "name": "python",
   "nbconvert_exporter": "python",
   "pygments_lexer": "ipython3",
   "version": "3.11.7"
  }
 },
 "nbformat": 4,
 "nbformat_minor": 2
}
